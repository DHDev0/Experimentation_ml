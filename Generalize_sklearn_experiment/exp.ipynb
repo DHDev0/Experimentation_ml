{
 "cells": [
  {
   "cell_type": "code",
   "execution_count": null,
   "metadata": {},
   "outputs": [],
   "source": [
    "import sk_exp_lib\n",
    "\n",
    "initialize = module_lr(data_path=\"training_sample.csv\")\n",
    "print(\"Experiment\")\n",
    "initialize.experiment(column_to_predict=[\"ordered\"],model_choice=\"MLPClassifier_0\")\n",
    "print(\"Predictor\")\n",
    "initialize.predictor(class_to_predict=[\"ordered\",], csv_result_path=\"result.csv\",prob_stat=False)\n",
    "    \n",
    "# module_lr.predictor(data_path =\"training_sample.csv\", model_path='model.pkl',\n",
    "#           scaler_predictor_path='scaler_predictor.pkl', scaler_predicted='scaler_predicted.pkl',\n",
    "#           class_to_predict=[\"ordered\",], csv_result_path=\"result.csv\")"
   ]
  }
 ],
 "metadata": {
  "kernelspec": {
   "display_name": "Python 3.7.0 ('tradd')",
   "language": "python",
   "name": "python3"
  },
  "language_info": {
   "name": "python",
   "version": "3.7.0"
  },
  "orig_nbformat": 4,
  "vscode": {
   "interpreter": {
    "hash": "9576c99980f95e051990d4e759e2b8bed23c4dbd32ead604c26a9cabcb988379"
   }
  }
 },
 "nbformat": 4,
 "nbformat_minor": 2
}
